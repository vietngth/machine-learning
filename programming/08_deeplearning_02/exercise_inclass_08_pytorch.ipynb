{
  "cells": [
    {
      "cell_type": "markdown",
      "metadata": {
        "id": "GstEgGSzlo0F"
      },
      "source": [
        "# In-class exercise 8: PyTorch from the bottom up"
      ]
    },
    {
      "cell_type": "markdown",
      "metadata": {
        "id": "9hjDkYQQlo0H"
      },
      "source": [
        "Based on Jeremy Howard's PyTorch tutorial \"What is torch.nn really?\""
      ]
    },
    {
      "cell_type": "markdown",
      "metadata": {
        "id": "8u0GMqSjlo0H"
      },
      "source": [
        "In this tutorial we will start at [PyTorch](https://pytorch.org/docs)'s lowest layer and then gradually introduce functions and features until we arrive at `nn.Sequential`. Lower layers give you more control over what you want to do, while higher layers allow for faster implementations. So in practice you have to choose at which layer you want to work. Moreover, knowing how the lower layers work will give you a better understanding of what is happening behind the scenes when working with the higher level abstractions."
      ]
    },
    {
      "cell_type": "code",
      "execution_count": 1,
      "metadata": {
        "id": "79BtAGkNlo0H"
      },
      "outputs": [],
      "source": [
        "import numpy as np\n",
        "import torch\n",
        "import torchvision\n",
        "import matplotlib.pyplot as plt"
      ]
    },
    {
      "cell_type": "markdown",
      "metadata": {
        "id": "y6rWllt0lo0I"
      },
      "source": [
        "# Download the data\n",
        "In this tutorial we will be working with the MNIST dataset. This is a classic dataset consisting of black and white images of hand-drawn digits.\n",
        "\n",
        "We will use [torchvision](https://pytorch.org/docs/stable/torchvision) to download the dataset. Torchvision also provides a lot of functionality for data preprocessing and augmentation, which is beyond the scope of this tutorial."
      ]
    },
    {
      "cell_type": "code",
      "execution_count": 2,
      "metadata": {
        "id": "5x14sUfIlo0I"
      },
      "outputs": [],
      "source": [
        "mnist_dev = torchvision.datasets.MNIST('./data', train=True, download=True)\n",
        "mnist_test = torchvision.datasets.MNIST('./data', train=False, download=True)"
      ]
    },
    {
      "cell_type": "markdown",
      "metadata": {
        "id": "h8ECzWN_lo0J"
      },
      "source": [
        "The input data $\\mathbf{X}$ and targets $\\mathbf{y}$ are saved in `data` and `targets`, so we will at first just extract these and work with the raw data. We also convert them to values between 0 and 1."
      ]
    },
    {
      "cell_type": "code",
      "execution_count": 3,
      "metadata": {
        "id": "UjftJuDjlo0J"
      },
      "outputs": [],
      "source": [
        "x_dev = mnist_dev.data / 255.0\n",
        "y_dev = mnist_dev.targets"
      ]
    },
    {
      "cell_type": "markdown",
      "metadata": {
        "id": "eNbocEHOlo0J"
      },
      "source": [
        "MNIST consists of 60,000 28x28 images, each corresponding to a single digit (0 to 9)."
      ]
    },
    {
      "cell_type": "code",
      "execution_count": 4,
      "metadata": {
        "colab": {
          "base_uri": "https://localhost:8080/",
          "height": 319
        },
        "id": "wueUC_ujlo0J",
        "outputId": "47197447-e162-40cb-9d27-9dea02f00492"
      },
      "outputs": [
        {
          "name": "stdout",
          "output_type": "stream",
          "text": [
            "torch.Size([60000, 28, 28])\n",
            "torch.Size([60000])\n"
          ]
        },
        {
          "data": {
            "text/plain": [
              "<matplotlib.image.AxesImage at 0x7f1fa8e29d00>"
            ]
          },
          "execution_count": 4,
          "metadata": {},
          "output_type": "execute_result"
        },
        {
          "data": {
            "image/png": "[encoded data removed]",
            "text/plain": [
              "<Figure size 432x288 with 1 Axes>"
            ]
          },
          "metadata": {
            "needs_background": "light"
          },
          "output_type": "display_data"
        }
      ],
      "source": [
        "print(x_dev.shape)\n",
        "print(y_dev.shape)\n",
        "\n",
        "plt.imshow(x_dev[0], cmap='gray')"
      ]
    },
    {
      "cell_type": "markdown",
      "metadata": {
        "id": "S_AtfCoMlo0K"
      },
      "source": [
        "Note that setting `train=True` gives you the development set, i.e. both training and validation data. So we need to split this further."
      ]
    },
    {
      "cell_type": "code",
      "execution_count": 5,
      "metadata": {
        "id": "8hV0ch-dlo0L"
      },
      "outputs": [],
      "source": [
        "ntrain = 50_000\n",
        "x_train, y_train = x_dev[:ntrain].flatten(1), y_dev[:ntrain]\n",
        "x_val, y_val = x_dev[ntrain:].flatten(1), y_dev[ntrain:]"
      ]
    },
    {
      "cell_type": "markdown",
      "metadata": {
        "id": "U4UzMCjLlo0L"
      },
      "source": [
        "# torch.tensor\n",
        "PyTorch uses its own `torch.tensor` datatype. This is very similar to a Numpy Array, but can also be moved to and used for calculations on a GPU, and supports storing gradient information and hence dynamic backpropagation."
      ]
    },
    {
      "cell_type": "markdown",
      "metadata": {
        "id": "PF48Rb92lo0L"
      },
      "source": [
        "We start by manually setting up an affine layer. The special function `requires_grad` tells PyTorch that these weights require gradients. PyTorch will then record all operations done on the tensor, so backpropagation can be done automatically. Thanks to this ability we can use any normal function as a model in PyTorch.\n",
        "\n",
        "Note that we initialize the weights via Xavier (Glorot) initialization. We only activate gradients after initialization, since we don't want gradients for that.\n",
        "\n",
        "Appending a function with `_` in PyTorch denotes in-place operations."
      ]
    },
    {
      "cell_type": "code",
      "execution_count": 6,
      "metadata": {
        "id": "gC6HoBRSlo0L"
      },
      "outputs": [],
      "source": [
        "num_features = 28 * 28\n",
        "num_classes = 10\n",
        "\n",
        "weight = torch.randn(num_features, num_classes) * np.sqrt(2 / (num_features + num_classes))\n",
        "weight.requires_grad_()\n",
        "bias = torch.zeros(num_classes, requires_grad=True)"
      ]
    },
    {
      "cell_type": "markdown",
      "metadata": {
        "id": "ISgCfOEzlo0M"
      },
      "source": [
        "We now use these weights to create a simple linear model (i.e. logistic regression). We furthermore define a loss (negative log-likelihood) for training and a function to obtain the prediction accuracy."
      ]
    },
    {
      "cell_type": "code",
      "execution_count": 7,
      "metadata": {
        "id": "gM8zdYBFlo0M"
      },
      "outputs": [],
      "source": [
        "def model(input):\n",
        "    return log_softmax(input @ weight + bias)\n",
        "\n",
        "def log_softmax(input):\n",
        "    return input - input.exp().sum(-1).log().unsqueeze(-1)\n",
        "\n",
        "def nll_loss(output, target):\n",
        "    return -output[range(target.shape[0]), target].mean()\n",
        "loss_fn = nll_loss\n",
        "\n",
        "def get_accuracy(output, target):\n",
        "    pred = torch.argmax(output, dim=1)\n",
        "    return (pred == target).float().mean()"
      ]
    },
    {
      "cell_type": "markdown",
      "metadata": {
        "id": "3lwo08f4lo0M"
      },
      "source": [
        "Let's see how our model performs before training."
      ]
    },
    {
      "cell_type": "code",
      "execution_count": 8,
      "metadata": {
        "colab": {
          "base_uri": "https://localhost:8080/"
        },
        "id": "vMunvg7alo0M",
        "outputId": "ba0e71fc-4330-4817-ee8d-f1a7916c468a"
      },
      "outputs": [
        {
          "name": "stdout",
          "output_type": "stream",
          "text": [
            "tensor(0.1875)\n"
          ]
        }
      ],
      "source": [
        "batch_size = 64\n",
        "\n",
        "print(get_accuracy(model(x_train[:batch_size]), y_train[:batch_size]))"
      ]
    },
    {
      "cell_type": "markdown",
      "metadata": {
        "id": "SFOCoHtslo0N"
      },
      "source": [
        "We can now define a training loop. In this loop we need to\n",
        "1. Get a mini-batch of data. When using dynamic computation graphs like in PyTorch it is important to choose a batch size that is large enough to leverage your hardware properly.\n",
        "2. Generate predictions with our model\n",
        "3. Calculate the loss\n",
        "4. Update the gradients via `loss.backward()`\n",
        "5. Update the `weight` and `bias` based on the gradients (optimization)"
      ]
    },
    {
      "cell_type": "code",
      "execution_count": 9,
      "metadata": {
        "id": "xi_k9jFilo0N"
      },
      "outputs": [],
      "source": [
        "learning_rate = 0.5\n",
        "num_epochs = 2\n",
        "\n",
        "for epoch in range(num_epochs):\n",
        "    for i in range(int(np.ceil(ntrain / batch_size))):\n",
        "        # Get mini-batch\n",
        "        start_i = i * batch_size\n",
        "        end_i = min(start_i + batch_size, ntrain)\n",
        "        xb = x_train[start_i:end_i]\n",
        "        yb = y_train[start_i:end_i]\n",
        "        \n",
        "        # Generate predictions\n",
        "        pred = model(xb)\n",
        "        \n",
        "        # Calculate loss\n",
        "        loss = loss_fn(pred, yb)\n",
        "        \n",
        "        # Update gradients\n",
        "        loss.backward()\n",
        "        \n",
        "        # Optimization step\n",
        "        with torch.no_grad():\n",
        "            weight -= learning_rate * weight.grad\n",
        "            bias -= learning_rate * bias.grad\n",
        "        weight.grad.zero_()\n",
        "        bias.grad.zero_()"
      ]
    },
    {
      "cell_type": "markdown",
      "metadata": {
        "id": "AAGhttP6lo0N"
      },
      "source": [
        "That is all we need! And now we can check if our performance has improved."
      ]
    },
    {
      "cell_type": "code",
      "execution_count": 10,
      "metadata": {
        "colab": {
          "base_uri": "https://localhost:8080/"
        },
        "id": "MiYuK3qelo0N",
        "outputId": "81166ed3-f3a3-455e-aa3b-4a23c4797500"
      },
      "outputs": [
        {
          "name": "stdout",
          "output_type": "stream",
          "text": [
            "tensor(0.2271, grad_fn=<NegBackward0>)\n",
            "tensor(0.9531)\n"
          ]
        }
      ],
      "source": [
        "print(loss_fn(model(x_train[:batch_size]), y_train[:batch_size]))\n",
        "print(get_accuracy(model(x_train[:batch_size]), y_train[:batch_size]))"
      ]
    },
    {
      "cell_type": "markdown",
      "metadata": {
        "id": "2MqMatYZlo0O"
      },
      "source": [
        "Nice, it works! Wasn't this already way easier than with pure Numpy? But this is just the start. Now that we've implemented our model in the lowest level of PyTorch we can start to go up the ladder and make this even better and simpler!"
      ]
    },
    {
      "cell_type": "markdown",
      "metadata": {
        "id": "raGN_JN2lo0O"
      },
      "source": [
        "# torch.nn.functional"
      ]
    },
    {
      "cell_type": "markdown",
      "metadata": {
        "id": "YDbSMnkLlo0O"
      },
      "source": [
        "We will start by replacing some of our hand-written functions with their professionally implemented counterparts in `torch.nn.functional`. This library contains all of the PyTorch functions (other parts contain the classes). It is commonly imported via"
      ]
    },
    {
      "cell_type": "code",
      "execution_count": 11,
      "metadata": {
        "id": "Zo4gj01blo0O"
      },
      "outputs": [],
      "source": [
        "import torch.nn.functional as F"
      ]
    },
    {
      "cell_type": "markdown",
      "metadata": {
        "id": "CNkEprlIlo0O"
      },
      "source": [
        "Instead of using `log_softmax` and `neg_loglikelihood` we can instead just use `F.cross_entropy`, which combines both of these."
      ]
    },
    {
      "cell_type": "code",
      "execution_count": 12,
      "metadata": {
        "id": "HaTO82Mklo0P"
      },
      "outputs": [],
      "source": [
        "def model(xb):\n",
        "    return xb @ weight + bias\n",
        "\n",
        "loss_fn = F.cross_entropy"
      ]
    },
    {
      "cell_type": "markdown",
      "metadata": {
        "id": "lwwHcUHGlo0P"
      },
      "source": [
        "The loss should still be the same."
      ]
    },
    {
      "cell_type": "code",
      "execution_count": 13,
      "metadata": {
        "colab": {
          "base_uri": "https://localhost:8080/"
        },
        "id": "_uZmWkEblo0P",
        "outputId": "346e6391-6f09-4457-e618-c9f954551ed5"
      },
      "outputs": [
        {
          "name": "stdout",
          "output_type": "stream",
          "text": [
            "tensor(0.2271, grad_fn=<NllLossBackward0>)\n"
          ]
        }
      ],
      "source": [
        "print(loss_fn(model(x_train[:batch_size]), y_train[:batch_size]))"
      ]
    },
    {
      "cell_type": "markdown",
      "metadata": {
        "id": "rd8c6JbIlo0P"
      },
      "source": [
        "# nn.Module\n",
        "Next we will use `nn.Module` and `nn.Parameter` for a clearer and more concise model definition and training loop. By subclassing `nn.Module` we obtain various convenience functions such as `.parameters()` and `.zero_grad()`."
      ]
    },
    {
      "cell_type": "code",
      "execution_count": 14,
      "metadata": {
        "id": "8ugm9lNslo0P"
      },
      "outputs": [],
      "source": [
        "from torch import nn\n",
        "\n",
        "class LogisticRegression(nn.Module):\n",
        "    def __init__(self, num_features, num_classes):\n",
        "        super().__init__()\n",
        "        self.weight = nn.Parameter(torch.randn(num_features, num_classes) * np.sqrt(2 / (num_features + num_classes)))\n",
        "        self.bias = nn.Parameter(torch.zeros(num_classes))\n",
        "        \n",
        "    def forward(self, input):\n",
        "        return input @ self.weight + self.bias"
      ]
    },
    {
      "cell_type": "markdown",
      "metadata": {
        "id": "vNvgEMEclo0Q"
      },
      "source": [
        "Since `LogRegression` is now a class we will have to first instantiate it before using it. We can then call it as if it were a function."
      ]
    },
    {
      "cell_type": "code",
      "execution_count": 15,
      "metadata": {
        "colab": {
          "base_uri": "https://localhost:8080/"
        },
        "id": "MQvK1PgIlo0Q",
        "outputId": "60e7451c-3406-4c04-d8ed-c87116555bfb",
        "scrolled": true
      },
      "outputs": [
        {
          "name": "stdout",
          "output_type": "stream",
          "text": [
            "tensor(2.4410, grad_fn=<NllLossBackward0>)\n"
          ]
        }
      ],
      "source": [
        "model = LogisticRegression(28 * 28, 10)\n",
        "print(loss_fn(model(x_train[:batch_size]), y_train[:batch_size]))"
      ]
    },
    {
      "cell_type": "markdown",
      "metadata": {
        "id": "zgBhCoIBlo0Q"
      },
      "source": [
        "We can now take advantage of `.parameters()` and `.zero_grad()` to make our training loop more concise."
      ]
    },
    {
      "cell_type": "code",
      "execution_count": 16,
      "metadata": {
        "id": "MT8JTjEBlo0Q"
      },
      "outputs": [],
      "source": [
        "def fit(model, num_epochs):\n",
        "    for epoch in range(num_epochs):\n",
        "        for i in range(int(np.ceil(ntrain / batch_size))):\n",
        "            # Get mini-batch\n",
        "            start_i = i * batch_size\n",
        "            end_i = min(start_i + batch_size, ntrain)\n",
        "            xb = x_train[start_i:end_i]\n",
        "            yb = y_train[start_i:end_i]\n",
        "\n",
        "            # Generate predictions\n",
        "            pred = model(xb)\n",
        "\n",
        "            # Calculate loss\n",
        "            loss = loss_fn(pred, yb)\n",
        "\n",
        "            # Update gradients\n",
        "            model.zero_grad()\n",
        "            loss.backward()\n",
        "\n",
        "            # Optimization step\n",
        "            with torch.no_grad():\n",
        "                for param in model.parameters():\n",
        "                    param -= learning_rate * param.grad"
      ]
    },
    {
      "cell_type": "code",
      "execution_count": 17,
      "metadata": {
        "id": "TjHdB26xlo0Q"
      },
      "outputs": [],
      "source": [
        "fit(model, num_epochs=2)"
      ]
    },
    {
      "cell_type": "markdown",
      "metadata": {
        "id": "qhzsZvJ_lo0R"
      },
      "source": [
        "And check if our results are similar to before."
      ]
    },
    {
      "cell_type": "code",
      "execution_count": 18,
      "metadata": {
        "colab": {
          "base_uri": "https://localhost:8080/"
        },
        "id": "uUSqNHNslo0R",
        "outputId": "3364c287-cb02-47e3-837b-f22b1800b5b7"
      },
      "outputs": [
        {
          "name": "stdout",
          "output_type": "stream",
          "text": [
            "tensor(0.2274, grad_fn=<NllLossBackward0>)\n",
            "tensor(0.9375)\n"
          ]
        }
      ],
      "source": [
        "print(loss_fn(model(x_train[:batch_size]), y_train[:batch_size]))\n",
        "print(get_accuracy(model(x_train[:batch_size]), y_train[:batch_size]))"
      ]
    },
    {
      "cell_type": "markdown",
      "metadata": {
        "id": "5ZL9sbKxlo0R"
      },
      "source": [
        "# nn.Linear"
      ]
    },
    {
      "cell_type": "markdown",
      "metadata": {
        "id": "4AXC2xaVlo0R"
      },
      "source": [
        "Instead of manually defining and initializing the affine layer, we can instead use the PyTorch class `nn.Linear`. PyTorch provides a wide range of predefined layers to simplify our code (and make it faster). On GitHub you will find layers for pretty much anything you might want to do."
      ]
    },
    {
      "cell_type": "code",
      "execution_count": 19,
      "metadata": {
        "id": "LCifjCWWlo0R"
      },
      "outputs": [],
      "source": [
        "class LogisticRegression(nn.Module):\n",
        "    def __init__(self, num_features, num_classes):\n",
        "        super().__init__()\n",
        "        self.lin = nn.Linear(num_features, num_classes)\n",
        "        \n",
        "    def forward(self, input):\n",
        "        return self.lin(input)"
      ]
    },
    {
      "cell_type": "markdown",
      "metadata": {
        "id": "nZOO3MqClo0S"
      },
      "source": [
        "To control weight initialization we must define a function and apply it to the model with `.apply(_)`."
      ]
    },
    {
      "cell_type": "markdown",
      "metadata": {
        "id": "15STZ_z_lo0S"
      },
      "source": [
        "Now let's check if we still get the same results as before."
      ]
    },
    {
      "cell_type": "code",
      "execution_count": 20,
      "metadata": {
        "id": "2I1pc3eRlo0S"
      },
      "outputs": [],
      "source": [
        "def initialize_weight(module):\n",
        "    if isinstance(module, (nn.Linear, nn.Conv2d)):\n",
        "        nn.init.xavier_normal_(module.weight)\n",
        "        module.bias.data.zero_()"
      ]
    },
    {
      "cell_type": "code",
      "execution_count": 21,
      "metadata": {
        "colab": {
          "base_uri": "https://localhost:8080/"
        },
        "id": "iLPhHhGLlo0S",
        "outputId": "e25848c6-a4e1-4804-f413-2307c7562a2e"
      },
      "outputs": [
        {
          "name": "stdout",
          "output_type": "stream",
          "text": [
            "tensor(0.2290, grad_fn=<NllLossBackward0>)\n",
            "tensor(0.9531)\n"
          ]
        }
      ],
      "source": [
        "model = LogisticRegression(28 * 28, 10)\n",
        "model.apply(initialize_weight)\n",
        "\n",
        "fit(model, num_epochs=2)\n",
        "\n",
        "print(loss_fn(model(x_train[:batch_size]), y_train[:batch_size]))\n",
        "print(get_accuracy(model(x_train[:batch_size]), y_train[:batch_size]))"
      ]
    },
    {
      "cell_type": "markdown",
      "metadata": {
        "id": "YaWWz4f5lo0S"
      },
      "source": [
        "# torch.optim"
      ]
    },
    {
      "cell_type": "markdown",
      "metadata": {
        "id": "98W6mTVZlo0T"
      },
      "source": [
        "`torch.optim` provides various optimization algorithms. Here we will continue to use simple `SGD`, but you could just as easily switch to Adam or AMSgrad. Optimizers provide `.step()` and `.zero_grad()` methods, which allows us to make the last block in our `fit` function more concise."
      ]
    },
    {
      "cell_type": "code",
      "execution_count": 22,
      "metadata": {
        "id": "jtjcqpgllo0T"
      },
      "outputs": [],
      "source": [
        "optimizer = torch.optim.SGD(model.parameters(), lr=learning_rate)"
      ]
    },
    {
      "cell_type": "code",
      "execution_count": 23,
      "metadata": {
        "id": "7983Te7elo0T"
      },
      "outputs": [],
      "source": [
        "def fit(model, optimizer, num_epochs):\n",
        "    for epoch in range(num_epochs):\n",
        "        for i in range(int(np.ceil(ntrain / batch_size))):\n",
        "            # Get mini-batch\n",
        "            start_i = i * batch_size\n",
        "            end_i = min(start_i + batch_size, ntrain)\n",
        "            xb = x_train[start_i:end_i]\n",
        "            yb = y_train[start_i:end_i]\n",
        "\n",
        "            # Generate predictions\n",
        "            pred = model(xb)\n",
        "\n",
        "            # Calculate loss\n",
        "            loss = loss_fn(pred, yb)\n",
        "\n",
        "            # Update gradients\n",
        "            optimizer.zero_grad()\n",
        "            loss.backward()\n",
        "\n",
        "            # Optimization step\n",
        "            optimizer.step()"
      ]
    },
    {
      "cell_type": "code",
      "execution_count": 24,
      "metadata": {
        "id": "yDIgAToNlo0T"
      },
      "outputs": [],
      "source": [
        "fit(model, optimizer, num_epochs=2)"
      ]
    },
    {
      "cell_type": "code",
      "execution_count": 25,
      "metadata": {
        "colab": {
          "base_uri": "https://localhost:8080/"
        },
        "id": "VrWTia_Ulo0T",
        "outputId": "7e1e8c6f-6163-4a35-a9e6-eb8b47a2d599"
      },
      "outputs": [
        {
          "name": "stdout",
          "output_type": "stream",
          "text": [
            "tensor(0.1941, grad_fn=<NllLossBackward0>)\n",
            "tensor(0.9531)\n"
          ]
        }
      ],
      "source": [
        "print(loss_fn(model(x_train[:batch_size]), y_train[:batch_size]))\n",
        "print(get_accuracy(model(x_train[:batch_size]), y_train[:batch_size]))"
      ]
    },
    {
      "cell_type": "markdown",
      "metadata": {
        "id": "BnKR9wiblo0U"
      },
      "source": [
        "# Dataset\n",
        "PyTorch also provides an abstract Dataset class for easier handling of various data. You can subclass this just like we subclassed `nn.Module`. A Dataset only needs to provide a `__len__` (which is called by Python's `len` function) and a `__getitem__` function for indexing the dataset.\n",
        "\n",
        "`TensorDataset` provides an easy way of converting tensors to datasets. This will make our data loading more concise, since we can handle both `x_train` and `y_train` simultaneously."
      ]
    },
    {
      "cell_type": "code",
      "execution_count": 26,
      "metadata": {
        "id": "0FZxIsvRlo0U"
      },
      "outputs": [],
      "source": [
        "from torch.utils.data import TensorDataset\n",
        "\n",
        "train_set = TensorDataset(x_train, y_train)"
      ]
    },
    {
      "cell_type": "code",
      "execution_count": 27,
      "metadata": {
        "id": "xg9pJWlnlo0U"
      },
      "outputs": [],
      "source": [
        "def fit(model, optimizer, train_set, num_epochs):\n",
        "    for epoch in range(num_epochs):\n",
        "        for i in range(int(np.ceil(ntrain / batch_size))):\n",
        "            # Get mini-batch\n",
        "            start_i = i * batch_size\n",
        "            end_i = min(start_i + batch_size, ntrain)\n",
        "            xb, yb = train_set[start_i:end_i]\n",
        "\n",
        "            # Generate predictions\n",
        "            pred = model(xb)\n",
        "\n",
        "            # Calculate loss\n",
        "            loss = loss_fn(pred, yb)\n",
        "\n",
        "            # Update gradients\n",
        "            optimizer.zero_grad()\n",
        "            loss.backward()\n",
        "\n",
        "            # Optimization step\n",
        "            optimizer.step()"
      ]
    },
    {
      "cell_type": "code",
      "execution_count": 28,
      "metadata": {
        "colab": {
          "base_uri": "https://localhost:8080/"
        },
        "id": "o68EF_tolo0U",
        "outputId": "4cb2f405-89ec-4191-817d-fa5e46b10ead"
      },
      "outputs": [
        {
          "name": "stdout",
          "output_type": "stream",
          "text": [
            "tensor(0.2253, grad_fn=<NllLossBackward0>)\n",
            "tensor(0.9531)\n"
          ]
        }
      ],
      "source": [
        "model = LogisticRegression(28 * 28, 10)\n",
        "model.apply(initialize_weight)\n",
        "optimizer = torch.optim.SGD(model.parameters(), lr=learning_rate)\n",
        "\n",
        "fit(model, optimizer, train_set, num_epochs=2)\n",
        "\n",
        "print(loss_fn(model(x_train[:batch_size]), y_train[:batch_size]))\n",
        "print(get_accuracy(model(x_train[:batch_size]), y_train[:batch_size]))"
      ]
    },
    {
      "cell_type": "markdown",
      "metadata": {
        "id": "GfrZnnr-lo0V"
      },
      "source": [
        "# DataLoader"
      ]
    },
    {
      "cell_type": "markdown",
      "metadata": {
        "id": "qcLI1FYIlo0V"
      },
      "source": [
        "A `DataLoader` automatically generates mini-batches for your training loop. It can run multiple workers in parallel and provides useful functionality such as data shuffling. You can create a `DataLoader` for any `Dataset`."
      ]
    },
    {
      "cell_type": "code",
      "execution_count": 29,
      "metadata": {
        "id": "tDXxPPFslo0V"
      },
      "outputs": [],
      "source": [
        "from torch.utils.data import DataLoader\n",
        "\n",
        "train_loader = DataLoader(train_set, batch_size=batch_size)"
      ]
    },
    {
      "cell_type": "markdown",
      "metadata": {
        "id": "JRDyefIClo0V"
      },
      "source": [
        "Using the DataLoader makes our training loop a lot cleaner:"
      ]
    },
    {
      "cell_type": "code",
      "execution_count": 30,
      "metadata": {
        "id": "4P3QF5u-lo0V"
      },
      "outputs": [],
      "source": [
        "def fit(model, optimizer, train_loader, num_epochs):\n",
        "    for epoch in range(num_epochs):\n",
        "        for xb, yb in train_loader:\n",
        "            # Generate predictions\n",
        "            pred = model(xb)\n",
        "\n",
        "            # Calculate loss\n",
        "            loss = loss_fn(pred, yb)\n",
        "\n",
        "            # Update gradients\n",
        "            optimizer.zero_grad()\n",
        "            loss.backward()\n",
        "\n",
        "            # Optimization step\n",
        "            optimizer.step()"
      ]
    },
    {
      "cell_type": "code",
      "execution_count": 31,
      "metadata": {
        "colab": {
          "base_uri": "https://localhost:8080/"
        },
        "id": "gG_FoHpFlo0V",
        "outputId": "b4b2d23a-1a97-42c9-db18-0459f6f4c5a9"
      },
      "outputs": [
        {
          "name": "stdout",
          "output_type": "stream",
          "text": [
            "tensor(0.2302, grad_fn=<NllLossBackward0>)\n",
            "tensor(0.9375)\n"
          ]
        }
      ],
      "source": [
        "model = LogisticRegression(28 * 28, 10)\n",
        "model.apply(initialize_weight)\n",
        "optimizer = torch.optim.SGD(model.parameters(), lr=learning_rate)\n",
        "\n",
        "fit(model, optimizer, train_loader, num_epochs=2)\n",
        "\n",
        "print(loss_fn(model(x_train[:batch_size]), y_train[:batch_size]))\n",
        "print(get_accuracy(model(x_train[:batch_size]), y_train[:batch_size]))"
      ]
    },
    {
      "cell_type": "markdown",
      "metadata": {
        "id": "5NP4VoBjlo0W"
      },
      "source": [
        "# Validation\n",
        "\n",
        "Now that we have a training loop we can go ahead and do some real work. To avoid overfitting, enable early stopping and have some information for model development we always need a validation set.\n",
        "\n",
        "Since the validation set does not need backpropagation we can use 2x larger batches for it. Furthermore, we should shuffle our training data to avoid correlation between batches. This is not necessary (and would waste computation time) for the validation set."
      ]
    },
    {
      "cell_type": "code",
      "execution_count": 32,
      "metadata": {
        "id": "8nq5V_fdlo0W"
      },
      "outputs": [],
      "source": [
        "train_set = TensorDataset(x_train, y_train)\n",
        "val_set = TensorDataset(x_val, y_val)\n",
        "\n",
        "dataloaders = {}\n",
        "dataloaders['train'] = DataLoader(train_set, batch_size=batch_size, shuffle=True)\n",
        "dataloaders['val'] = DataLoader(val_set, batch_size=2 * batch_size)"
      ]
    },
    {
      "cell_type": "markdown",
      "metadata": {
        "id": "maBDs2ablo0W"
      },
      "source": [
        "Note that you need to call `model.train()` before training and `model.eval()` before evaluation (inference), since some layers like dropout and batch normalization work differently in each mode."
      ]
    },
    {
      "cell_type": "code",
      "execution_count": 33,
      "metadata": {
        "id": "3rfMLPlflo0W"
      },
      "outputs": [],
      "source": [
        "def fit(model, optimizer, dataloaders, num_epochs):\n",
        "    for epoch in range(num_epochs):\n",
        "        \n",
        "        # Training\n",
        "        model.train()\n",
        "        for xb, yb in dataloaders['train']:\n",
        "            pred = model(xb)\n",
        "            loss = loss_fn(pred, yb)\n",
        "\n",
        "            optimizer.zero_grad()\n",
        "            loss.backward()\n",
        "            optimizer.step()\n",
        "        \n",
        "        # Evaluation\n",
        "        model.eval()\n",
        "        loss = 0\n",
        "        n_correct = 0\n",
        "        n_samples = 0\n",
        "        for xb, yb in dataloaders['val']:\n",
        "            pred = model(xb)\n",
        "            loss += loss_fn(pred, yb).sum()\n",
        "            n_correct += (pred.argmax(-1) == yb).sum()\n",
        "            n_samples += len(yb)\n",
        "        avg_loss = loss / len(dataloaders['val'])\n",
        "        accuracy = n_correct / n_samples\n",
        "            \n",
        "        print(f\"Epoch {epoch}: loss={avg_loss:.3f} accuracy={accuracy:.3f}\")"
      ]
    },
    {
      "cell_type": "code",
      "execution_count": 34,
      "metadata": {
        "colab": {
          "base_uri": "https://localhost:8080/"
        },
        "id": "GO6SonHYlo0W",
        "outputId": "b4ad4edd-9ae5-436c-b7e9-770560f0ad16"
      },
      "outputs": [
        {
          "name": "stdout",
          "output_type": "stream",
          "text": [
            "Epoch 0: loss=0.321 accuracy=0.909\n",
            "Epoch 1: loss=0.301 accuracy=0.914\n"
          ]
        }
      ],
      "source": [
        "model = LogisticRegression(28 * 28, 10)\n",
        "model.apply(initialize_weight)\n",
        "optimizer = torch.optim.SGD(model.parameters(), lr=learning_rate)\n",
        "\n",
        "fit(model, optimizer, dataloaders, num_epochs=2)"
      ]
    },
    {
      "cell_type": "markdown",
      "metadata": {
        "id": "5k0GNIYGlo0X"
      },
      "source": [
        "# CNN\n",
        "Using simple logistic regression (or an MLP) for images basically ignores the data's underlying structure. We can do much better than this by switching to a CNN. Since our training loop does not assume anything about the model we can train a CNN without any changes.\n",
        "\n",
        "Our CNN will consist of 3 convolutional layers, each using PyTorch's predefined `Conv2d` layer. At the End, we perform average pooling. Since `Conv2d` assumes a shape of `[batch_size, num_channels, height, width]` we need to reshape our input inside the model via `.view(_)`."
      ]
    },
    {
      "cell_type": "code",
      "execution_count": 35,
      "metadata": {
        "id": "jfi6evjJlo0X"
      },
      "outputs": [],
      "source": [
        "class CNN(nn.Module):\n",
        "    def __init__(self, num_channels, num_classes):\n",
        "        super().__init__()\n",
        "        self.conv1 = nn.Conv2d(1, num_channels, kernel_size=3, stride=2, padding=1)\n",
        "        self.conv2 = nn.Conv2d(num_channels, num_channels, kernel_size=3, stride=2, padding=1)\n",
        "        self.conv3 = nn.Conv2d(num_channels, num_classes, kernel_size=3, stride=2, padding=1)\n",
        "\n",
        "    def forward(self, xb):\n",
        "        xb = xb.view(-1, 1, 28, 28)\n",
        "        xb = F.relu(self.conv1(xb))\n",
        "        xb = F.relu(self.conv2(xb))\n",
        "        xb = F.relu(self.conv3(xb))\n",
        "        xb = F.avg_pool2d(xb, 4)\n",
        "        return xb.view(-1, xb.size(1))"
      ]
    },
    {
      "cell_type": "markdown",
      "metadata": {
        "id": "9XOOcNyclo0X"
      },
      "source": [
        "We will now furthermore use momentum in our optimizer to speed up training."
      ]
    },
    {
      "cell_type": "code",
      "execution_count": 36,
      "metadata": {
        "colab": {
          "base_uri": "https://localhost:8080/"
        },
        "id": "Afl2sExolo0X",
        "outputId": "e01cb93e-f1cc-4fd4-88d0-c26c966684db"
      },
      "outputs": [
        {
          "name": "stdout",
          "output_type": "stream",
          "text": [
            "Epoch 0: loss=0.326 accuracy=0.906\n",
            "Epoch 1: loss=0.288 accuracy=0.914\n"
          ]
        }
      ],
      "source": [
        "model = CNN(num_channels=16, num_classes=10)\n",
        "model.apply(initialize_weight)\n",
        "optimizer = torch.optim.SGD(model.parameters(), lr=0.1, momentum=0.9)\n",
        "\n",
        "fit(model, optimizer, dataloaders, num_epochs=2)"
      ]
    },
    {
      "cell_type": "markdown",
      "metadata": {
        "id": "oRz3UH8xlo0X"
      },
      "source": [
        "# nn.Sequential"
      ]
    },
    {
      "cell_type": "markdown",
      "metadata": {
        "id": "3mx_G4xTlo0Y"
      },
      "source": [
        "PyTorch provides a class `nn.Sequential` for simplifying the definition of modules that only consist of a stack of layers. Since these are exactly the models we have been using so far we will now switch to this interface.\n",
        "\n",
        "Because not all functions are defined as PyTorch layers we will start by defining a module that just converts a function to a layer."
      ]
    },
    {
      "cell_type": "code",
      "execution_count": 37,
      "metadata": {
        "id": "39IzIimqlo0Y"
      },
      "outputs": [],
      "source": [
        "class Lambda(nn.Module):\n",
        "    def __init__(self, func):\n",
        "        super().__init__()\n",
        "        self.func = func\n",
        "\n",
        "    def forward(self, x):\n",
        "        return self.func(x)"
      ]
    },
    {
      "cell_type": "markdown",
      "metadata": {
        "id": "GgBce3M5lo0Y"
      },
      "source": [
        "We can now define our CNN in a more concise manner. Note that we now use `nn.AdaptiveAvgPool2d`, which allows us to specify the size of the output tensor instead of the input tensor."
      ]
    },
    {
      "cell_type": "code",
      "execution_count": 38,
      "metadata": {
        "id": "Nlsu9b8zlo0Y"
      },
      "outputs": [],
      "source": [
        "model = nn.Sequential(\n",
        "    Lambda(lambda x: x.view(-1, 1, 28, 28)),\n",
        "    nn.Conv2d(1, 16, kernel_size=3, stride=2, padding=1),\n",
        "    nn.ReLU(),\n",
        "    nn.Conv2d(16, 16, kernel_size=3, stride=2, padding=1),\n",
        "    nn.ReLU(),\n",
        "    nn.Conv2d(16, 10, kernel_size=3, stride=2, padding=1),\n",
        "    nn.ReLU(),\n",
        "    nn.AdaptiveAvgPool2d(1),\n",
        "    Lambda(lambda x: x.view(x.size(0), -1)),\n",
        ")"
      ]
    },
    {
      "cell_type": "code",
      "execution_count": 39,
      "metadata": {
        "colab": {
          "base_uri": "https://localhost:8080/"
        },
        "id": "K1fre6h-lo0Y",
        "outputId": "fc0d2350-075f-4b73-c106-df4ebcbd95f1"
      },
      "outputs": [
        {
          "name": "stdout",
          "output_type": "stream",
          "text": [
            "Epoch 0: loss=0.343 accuracy=0.896\n",
            "Epoch 1: loss=0.289 accuracy=0.919\n"
          ]
        }
      ],
      "source": [
        "model.apply(initialize_weight)\n",
        "optimizer = torch.optim.SGD(model.parameters(), lr=0.1, momentum=0.9)\n",
        "\n",
        "fit(model, optimizer, dataloaders, num_epochs=2)"
      ]
    },
    {
      "cell_type": "markdown",
      "metadata": {
        "id": "F-lPL9n4lo0Z"
      },
      "source": [
        "# GPUs"
      ]
    },
    {
      "cell_type": "markdown",
      "metadata": {
        "id": "kp8iFid0lo0Z"
      },
      "source": [
        "PyTorch can run significantly faster on a GPU than on a CPU, so you should always try to leverage that hardware. To do so, you need to move both your model and your data to the device.\n",
        "\n",
        "So let's first check if you have a GPU and choose the appropriate device."
      ]
    },
    {
      "cell_type": "code",
      "execution_count": 40,
      "metadata": {
        "colab": {
          "base_uri": "https://localhost:8080/"
        },
        "id": "z_57uBFolo0Z",
        "outputId": "02b7c9c7-e43f-418c-e858-05e9e580275b"
      },
      "outputs": [
        {
          "name": "stdout",
          "output_type": "stream",
          "text": [
            "False\n"
          ]
        }
      ],
      "source": [
        "print(torch.cuda.is_available())\n",
        "device = torch.device('cuda') if torch.cuda.is_available() else torch.device('cpu')"
      ]
    },
    {
      "cell_type": "markdown",
      "metadata": {
        "id": "hf7Frmaflo0Z"
      },
      "source": [
        "Next, we move our model to the device."
      ]
    },
    {
      "cell_type": "code",
      "execution_count": 41,
      "metadata": {
        "id": "TEajfTSllo0Z"
      },
      "outputs": [],
      "source": [
        "model.to(device);"
      ]
    },
    {
      "cell_type": "markdown",
      "metadata": {
        "id": "Da2LmBpQlo0a"
      },
      "source": [
        "Then, we redefine the DataLoader to pin the memory. This is a trick that will accelerate moving data between CPU and GPU."
      ]
    },
    {
      "cell_type": "code",
      "execution_count": 42,
      "metadata": {
        "id": "QaFMWQqflo0a"
      },
      "outputs": [],
      "source": [
        "dataloaders = {}\n",
        "dataloaders['train'] = DataLoader(train_set, batch_size=batch_size, shuffle=True, pin_memory=True)\n",
        "dataloaders['val'] = DataLoader(val_set, batch_size=2 * batch_size, pin_memory=True)"
      ]
    },
    {
      "cell_type": "markdown",
      "metadata": {
        "id": "8BIsLw2Zlo0a"
      },
      "source": [
        "Finally, we need to slightly change our training loop to send each batch to the device first."
      ]
    },
    {
      "cell_type": "code",
      "execution_count": 43,
      "metadata": {
        "id": "rA7dwcbHlo0a"
      },
      "outputs": [],
      "source": [
        "def fit(model, optimizer, dataloaders, num_epochs):\n",
        "    for epoch in range(num_epochs):\n",
        "        \n",
        "        # Training\n",
        "        model.train()\n",
        "        for xb, yb in dataloaders['train']:\n",
        "            xb, yb = xb.to(device), yb.to(device)\n",
        "            \n",
        "            pred = model(xb)\n",
        "            loss = loss_fn(pred, yb)\n",
        "\n",
        "            optimizer.zero_grad()\n",
        "            loss.backward()\n",
        "            optimizer.step()\n",
        "        \n",
        "        # Evaluation\n",
        "        model.eval()\n",
        "        loss = 0\n",
        "        n_correct = 0\n",
        "        n_samples = 0\n",
        "        for xb, yb in dataloaders['val']:\n",
        "            xb, yb = xb.to(device), yb.to(device)\n",
        "            \n",
        "            pred = model(xb)\n",
        "            loss += loss_fn(pred, yb).sum()\n",
        "            n_correct += (pred.argmax(-1) == yb).sum()\n",
        "            n_samples += len(yb)\n",
        "        avg_loss = loss / len(dataloaders['val'])\n",
        "        accuracy = n_correct / n_samples\n",
        "            \n",
        "        print(f\"Epoch {epoch}: loss={avg_loss:.3f} accuracy={accuracy:.3f}\")"
      ]
    },
    {
      "cell_type": "markdown",
      "metadata": {
        "id": "YLdbOMYylo0a"
      },
      "source": [
        "And now we can run our CNN on the GPU!"
      ]
    },
    {
      "cell_type": "code",
      "execution_count": 44,
      "metadata": {
        "colab": {
          "base_uri": "https://localhost:8080/"
        },
        "id": "nSXfu4MAlo0a",
        "outputId": "0e864546-2b37-4f08-96e8-0cd4a3e274f3"
      },
      "outputs": [
        {
          "name": "stdout",
          "output_type": "stream",
          "text": [
            "Epoch 0: loss=0.388 accuracy=0.887\n",
            "Epoch 1: loss=0.246 accuracy=0.929\n"
          ]
        }
      ],
      "source": [
        "model.apply(initialize_weight)\n",
        "optimizer = torch.optim.SGD(model.parameters(), lr=0.1, momentum=0.9)\n",
        "\n",
        "fit(model, optimizer, dataloaders, num_epochs=2)"
      ]
    },
    {
      "cell_type": "markdown",
      "metadata": {
        "id": "HRKt29d5lo0a"
      },
      "source": [
        "# Summary\n",
        "Great, so now we have a concise, but general training loop and know how to quickly define new models! Now let us sum up what we have learned during this journey:\n",
        "- `torch.tensor`: PyTorch tensors work like Numpy arrays, but can remember gradients and be sent to the GPU.\n",
        "- `torch.nn`\n",
        "    - `torch.nn.functional`: Provides various useful functions (non stateful) for training neural networks, e.g. activation and loss functions.\n",
        "    - `nn.Module`: Subclass from this to create a callable that acts like a function, but can remember state. It knows what `Parameter`s and submodules it contains and provides various functionality based on that.\n",
        "    - `nn.Parameter`: Wraps a tensor and tells the containing Module that it needs updating during backpropagation.\n",
        "    - `torch.nn`: Many useful layers are already implemented in this library, e.g. `nn.Linear` or `nn.Conv2d`.\n",
        "    - `nn.Sequential`: Provides an easy way of defining purely stacked modules.\n",
        "- `torch.optim`: Optimizers such as `SGD` or `Adam`, which let you easily update and train the `Parameter`s inside the passed model.\n",
        "- `Dataset`: Interface for data using only the `__len__` and `__getitem__` functions. Tensors can be converted into a `Dataset` by using `TensorDataset`.\n",
        "- `DataLoader`: Takes any `Dataset` and provides an iterator for returning mini-batches with various advanced functionality.\n",
        "- `GPU`: To use your GPU you need to move your model and each mini-batch to your GPU using `.to(device)`."
      ]
    }
  ],
  "metadata": {
    "colab": {
      "provenance": []
    },
    "kernelspec": {
      "display_name": "Python 3.9.13 64-bit",
      "language": "python",
      "name": "python3"
    },
    "language_info": {
      "codemirror_mode": {
        "name": "ipython",
        "version": 3
      },
      "file_extension": ".py",
      "mimetype": "text/x-python",
      "name": "python",
      "nbconvert_exporter": "python",
      "pygments_lexer": "ipython3",
      "version": "3.9.13"
    },
    "vscode": {
      "interpreter": {
        "hash": "aee8b7b246df8f9039afb4144a1f6fd8d2ca17a180786b69acc140d282b71a49"
      }
    }
  },
  "nbformat": 4,
  "nbformat_minor": 0
}